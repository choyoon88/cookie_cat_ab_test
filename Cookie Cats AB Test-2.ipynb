{
 "cells": [
  {
   "cell_type": "markdown",
   "id": "2c32423f",
   "metadata": {},
   "source": [
    "# Cookie Cats A/B Test"
   ]
  },
  {
   "cell_type": "markdown",
   "id": "e78e3ee8",
   "metadata": {},
   "source": [
    "Cookie Cats is a simple puzzle game played on a mobile device. Various kinds of different cookies are displayed on the panel arranged in a random order and the users have to connect the cookies with a single drag without any stop in order to feed the cats. Once the goal from a certain level is made the next level is opened. \n",
    "\n",
    "The game has a turning point in the middle of the level that requires the users to either purchase extra contents. It is currently set on level 30, however the client is wondering if they move the point to level 40 will make the players to last longer on the game. "
   ]
  },
  {
   "cell_type": "markdown",
   "id": "7fd17dff",
   "metadata": {},
   "source": [
    "This dataset comprises A/B test outcomes for Cookie Cats, investigating the impact of relocating the initial gate in the game from level 30 to level 40. Upon installing the game, players were randomly assigned to either gate_30 or gate_40.\n",
    "\n",
    "The data we have is from 90,189 players that installed the game while the AB-test was running. The variables are:\n",
    "\n",
    "- user_id: A unique number that identifies each player.\n",
    "- version: Whether the player was put in the control group (gate_30 - a gate at level 30) or the group with the moved gate (gate_40 - a gate at level 40).\n",
    "- sum_gamerounds: the number of game rounds played by the player during the first 14 days after install.\n",
    "- retention_1: Did the player come back and play 1 day after installing?\n",
    "- retention_7: Did the player come back and play 7 days after installing?"
   ]
  },
  {
   "cell_type": "markdown",
   "id": "0e2d2740",
   "metadata": {},
   "source": [
    "## Familiarizing with the Data"
   ]
  },
  {
   "cell_type": "markdown",
   "id": "a1e475b2",
   "metadata": {},
   "source": [
    "Import necessary libraries and read the data\n"
   ]
  },
  {
   "cell_type": "code",
   "execution_count": 40,
   "id": "9c101ac9",
   "metadata": {},
   "outputs": [],
   "source": [
    "%matplotlib inline\n",
    "\n",
    "import pandas as pd\n",
    "import numpy as np\n",
    "import matplotlib.pyplot as plt\n",
    "import seaborn as sns\n",
    "\n",
    "from scipy.stats import shapiro, levene, mannwhitneyu"
   ]
  },
  {
   "cell_type": "code",
   "execution_count": 2,
   "id": "0f34d9b6",
   "metadata": {},
   "outputs": [
    {
     "data": {
      "text/html": [
       "<div>\n",
       "<style scoped>\n",
       "    .dataframe tbody tr th:only-of-type {\n",
       "        vertical-align: middle;\n",
       "    }\n",
       "\n",
       "    .dataframe tbody tr th {\n",
       "        vertical-align: top;\n",
       "    }\n",
       "\n",
       "    .dataframe thead th {\n",
       "        text-align: right;\n",
       "    }\n",
       "</style>\n",
       "<table border=\"1\" class=\"dataframe\">\n",
       "  <thead>\n",
       "    <tr style=\"text-align: right;\">\n",
       "      <th></th>\n",
       "      <th>user_id</th>\n",
       "      <th>version</th>\n",
       "      <th>sum_gamerounds</th>\n",
       "      <th>retention_1</th>\n",
       "      <th>retention_7</th>\n",
       "    </tr>\n",
       "  </thead>\n",
       "  <tbody>\n",
       "    <tr>\n",
       "      <th>0</th>\n",
       "      <td>116</td>\n",
       "      <td>gate_30</td>\n",
       "      <td>3</td>\n",
       "      <td>False</td>\n",
       "      <td>False</td>\n",
       "    </tr>\n",
       "    <tr>\n",
       "      <th>1</th>\n",
       "      <td>337</td>\n",
       "      <td>gate_30</td>\n",
       "      <td>38</td>\n",
       "      <td>True</td>\n",
       "      <td>False</td>\n",
       "    </tr>\n",
       "    <tr>\n",
       "      <th>2</th>\n",
       "      <td>377</td>\n",
       "      <td>gate_40</td>\n",
       "      <td>165</td>\n",
       "      <td>True</td>\n",
       "      <td>False</td>\n",
       "    </tr>\n",
       "    <tr>\n",
       "      <th>3</th>\n",
       "      <td>483</td>\n",
       "      <td>gate_40</td>\n",
       "      <td>1</td>\n",
       "      <td>False</td>\n",
       "      <td>False</td>\n",
       "    </tr>\n",
       "    <tr>\n",
       "      <th>4</th>\n",
       "      <td>488</td>\n",
       "      <td>gate_40</td>\n",
       "      <td>179</td>\n",
       "      <td>True</td>\n",
       "      <td>True</td>\n",
       "    </tr>\n",
       "  </tbody>\n",
       "</table>\n",
       "</div>"
      ],
      "text/plain": [
       "   user_id  version  sum_gamerounds  retention_1  retention_7\n",
       "0      116  gate_30               3        False        False\n",
       "1      337  gate_30              38         True        False\n",
       "2      377  gate_40             165         True        False\n",
       "3      483  gate_40               1        False        False\n",
       "4      488  gate_40             179         True         True"
      ]
     },
     "execution_count": 2,
     "metadata": {},
     "output_type": "execute_result"
    }
   ],
   "source": [
    "data = pd.read_csv('cookie_cats.txt', delimiter = \",\")\n",
    "data.columns = ['user_id', 'version', 'sum_gamerounds', 'retention_1', 'retention_7']\n",
    "data.head()"
   ]
  },
  {
   "cell_type": "code",
   "execution_count": 7,
   "id": "6c95879c",
   "metadata": {},
   "outputs": [
    {
     "name": "stdout",
     "output_type": "stream",
     "text": [
      "<class 'pandas.core.frame.DataFrame'>\n",
      "RangeIndex: 90189 entries, 0 to 90188\n",
      "Data columns (total 5 columns):\n",
      " #   Column          Non-Null Count  Dtype \n",
      "---  ------          --------------  ----- \n",
      " 0   user_id         90189 non-null  int64 \n",
      " 1   version         90189 non-null  object\n",
      " 2   sum_gamerounds  90189 non-null  int64 \n",
      " 3   retention_1     90189 non-null  bool  \n",
      " 4   retention_7     90189 non-null  bool  \n",
      "dtypes: bool(2), int64(2), object(1)\n",
      "memory usage: 2.2+ MB\n"
     ]
    }
   ],
   "source": [
    "data.info()"
   ]
  },
  {
   "cell_type": "code",
   "execution_count": 8,
   "id": "12392a27",
   "metadata": {},
   "outputs": [
    {
     "data": {
      "text/plain": [
       "user_id           0\n",
       "version           0\n",
       "sum_gamerounds    0\n",
       "retention_1       0\n",
       "retention_7       0\n",
       "dtype: int64"
      ]
     },
     "execution_count": 8,
     "metadata": {},
     "output_type": "execute_result"
    }
   ],
   "source": [
    "data.isna().sum()"
   ]
  },
  {
   "cell_type": "code",
   "execution_count": 9,
   "id": "0b9408db",
   "metadata": {},
   "outputs": [
    {
     "data": {
      "text/plain": [
       "0"
      ]
     },
     "execution_count": 9,
     "metadata": {},
     "output_type": "execute_result"
    }
   ],
   "source": [
    "data.duplicated().sum()"
   ]
  },
  {
   "cell_type": "markdown",
   "id": "8e755e34",
   "metadata": {},
   "source": [
    "Let's visualise the distribution of the number of game rounds played by the player during the first 14 days after install. We can see that the histogram is very right skewed meaning most of the players didn't last long and quit the game on an early stage. "
   ]
  },
  {
   "cell_type": "code",
   "execution_count": 3,
   "id": "8b3cec57",
   "metadata": {},
   "outputs": [
    {
     "data": {
      "image/png": "[encoded data removed]",
      "text/plain": [
       "<Figure size 640x480 with 1 Axes>"
      ]
     },
     "metadata": {},
     "output_type": "display_data"
    }
   ],
   "source": [
    "data_grouped_sum_gamerounds = data.groupby('sum_gamerounds')['user_id'].count().reset_index()\n",
    "\n",
    "plt.hist(data_grouped_sum_gamerounds['user_id'], bins=50, range=(0, 100))\n",
    "plt.show()"
   ]
  },
  {
   "cell_type": "markdown",
   "id": "0c04284e",
   "metadata": {},
   "source": [
    "Having a more closer look limiting the range to 20, we can see most of the players didn't even play the game. Also it had a steep drop after playing round 2 or 3. "
   ]
  },
  {
   "cell_type": "code",
   "execution_count": 4,
   "id": "9c28bf6b",
   "metadata": {},
   "outputs": [
    {
     "data": {
      "image/png": "[encoded data removed]",
      "text/plain": [
       "<Figure size 640x480 with 1 Axes>"
      ]
     },
     "metadata": {},
     "output_type": "display_data"
    }
   ],
   "source": [
    "plt.hist(data_grouped_sum_gamerounds['user_id'], range=(0, 20))\n",
    "plt.show()"
   ]
  },
  {
   "cell_type": "markdown",
   "id": "907e6a38",
   "metadata": {},
   "source": [
    "From total 90189 players 3994 players didn't even start the game after installing. That is more than 4% of the total players. "
   ]
  },
  {
   "cell_type": "code",
   "execution_count": 5,
   "id": "7792e865",
   "metadata": {},
   "outputs": [
    {
     "name": "stdout",
     "output_type": "stream",
     "text": [
      "Percentage of not played: 4.43%\n"
     ]
    }
   ],
   "source": [
    "not_played = data_grouped_sum_gamerounds[data_grouped_sum_gamerounds['sum_gamerounds'] == 0].sum()[1]\n",
    "\n",
    "print(f\"Percentage of not played: {round(not_played * 100 / 90189, 2)}%\")"
   ]
  },
  {
   "cell_type": "markdown",
   "id": "8a5c0f0e",
   "metadata": {},
   "source": [
    "Looks like the versions distributed evenly to all players."
   ]
  },
  {
   "cell_type": "code",
   "execution_count": 13,
   "id": "8bcd51b3",
   "metadata": {},
   "outputs": [
    {
     "data": {
      "text/html": [
       "<div>\n",
       "<style scoped>\n",
       "    .dataframe tbody tr th:only-of-type {\n",
       "        vertical-align: middle;\n",
       "    }\n",
       "\n",
       "    .dataframe tbody tr th {\n",
       "        vertical-align: top;\n",
       "    }\n",
       "\n",
       "    .dataframe thead th {\n",
       "        text-align: right;\n",
       "    }\n",
       "</style>\n",
       "<table border=\"1\" class=\"dataframe\">\n",
       "  <thead>\n",
       "    <tr style=\"text-align: right;\">\n",
       "      <th></th>\n",
       "      <th>version</th>\n",
       "      <th>user_id</th>\n",
       "    </tr>\n",
       "  </thead>\n",
       "  <tbody>\n",
       "    <tr>\n",
       "      <th>0</th>\n",
       "      <td>gate_30</td>\n",
       "      <td>44700</td>\n",
       "    </tr>\n",
       "    <tr>\n",
       "      <th>1</th>\n",
       "      <td>gate_40</td>\n",
       "      <td>45489</td>\n",
       "    </tr>\n",
       "  </tbody>\n",
       "</table>\n",
       "</div>"
      ],
      "text/plain": [
       "   version  user_id\n",
       "0  gate_30    44700\n",
       "1  gate_40    45489"
      ]
     },
     "execution_count": 13,
     "metadata": {},
     "output_type": "execute_result"
    }
   ],
   "source": [
    "data.groupby('version')[['user_id']].nunique().reset_index()"
   ]
  },
  {
   "cell_type": "markdown",
   "id": "66cacc6f",
   "metadata": {},
   "source": [
    "Almost half of the players came back and play the game 1 day after installing. "
   ]
  },
  {
   "cell_type": "code",
   "execution_count": 21,
   "id": "eb7ada7a",
   "metadata": {},
   "outputs": [
    {
     "name": "stdout",
     "output_type": "stream",
     "text": [
      "Players come back after day 1: 44.52%\n",
      "Players come back after day 7: 18.61%\n"
     ]
    }
   ],
   "source": [
    "re_1_mean = data['retention_1'].mean()*100\n",
    "re_7_mean = data['retention_7'].mean()*100\n",
    "\n",
    "print(f\"Players come back after day 1: {round(re_1_mean, 2)}%\")\n",
    "print(f\"Players come back after day 7: {round(re_7_mean, 2)}%\")"
   ]
  },
  {
   "cell_type": "markdown",
   "id": "c5d004bf",
   "metadata": {},
   "source": [
    "We group by the `version` and get the retention rate for each version. We can see for the `gate_30` the retention rate of both `retention_1` and `retention_7` increased slightly, whereas `gate_40` decreased the retention rate. \n",
    "\n",
    "- Retention rate after day 1 from total is 44.52% when the gate was moved from 30 to 40 it only made the detention rate to decrease (44.22%)\n",
    "- Also the retention rate after day 7 slightly decreased from total retention rate 18.61% to 18.2% when the gate was moved to 40\n",
    "\n",
    "This could give us an idea that changing the gate from 30 to 40 doesn't have any significant difference so we might have to stick the gate on 30. \n",
    "\n",
    "Let's move on to check if this is true. "
   ]
  },
  {
   "cell_type": "code",
   "execution_count": 24,
   "id": "0a946efd",
   "metadata": {},
   "outputs": [
    {
     "data": {
      "text/html": [
       "<div>\n",
       "<style scoped>\n",
       "    .dataframe tbody tr th:only-of-type {\n",
       "        vertical-align: middle;\n",
       "    }\n",
       "\n",
       "    .dataframe tbody tr th {\n",
       "        vertical-align: top;\n",
       "    }\n",
       "\n",
       "    .dataframe thead th {\n",
       "        text-align: right;\n",
       "    }\n",
       "</style>\n",
       "<table border=\"1\" class=\"dataframe\">\n",
       "  <thead>\n",
       "    <tr style=\"text-align: right;\">\n",
       "      <th></th>\n",
       "      <th>user_id</th>\n",
       "      <th>retention_1</th>\n",
       "      <th>retention_7</th>\n",
       "      <th>sum_gamerounds</th>\n",
       "    </tr>\n",
       "    <tr>\n",
       "      <th>version</th>\n",
       "      <th></th>\n",
       "      <th></th>\n",
       "      <th></th>\n",
       "      <th></th>\n",
       "    </tr>\n",
       "  </thead>\n",
       "  <tbody>\n",
       "    <tr>\n",
       "      <th>gate_30</th>\n",
       "      <td>44700</td>\n",
       "      <td>0.448188</td>\n",
       "      <td>0.190201</td>\n",
       "      <td>2344795</td>\n",
       "    </tr>\n",
       "    <tr>\n",
       "      <th>gate_40</th>\n",
       "      <td>45489</td>\n",
       "      <td>0.442283</td>\n",
       "      <td>0.182000</td>\n",
       "      <td>2333530</td>\n",
       "    </tr>\n",
       "  </tbody>\n",
       "</table>\n",
       "</div>"
      ],
      "text/plain": [
       "         user_id  retention_1  retention_7  sum_gamerounds\n",
       "version                                                   \n",
       "gate_30    44700     0.448188     0.190201         2344795\n",
       "gate_40    45489     0.442283     0.182000         2333530"
      ]
     },
     "execution_count": 24,
     "metadata": {},
     "output_type": "execute_result"
    }
   ],
   "source": [
    "data_retention_ab = data.groupby('version').agg({'user_id': 'count', \n",
    "                                                 'retention_1': 'mean', \n",
    "                                                 'retention_7': 'mean', \n",
    "                                                 'sum_gamerounds': 'sum'})\n",
    "data_retention_ab"
   ]
  },
  {
   "cell_type": "markdown",
   "id": "34c81fca",
   "metadata": {},
   "source": [
    "## Hypothesis"
   ]
  },
  {
   "cell_type": "markdown",
   "id": "8ae55240",
   "metadata": {},
   "source": [
    "Let's set the null and alternative hypothesis.\n",
    "\n",
    "H0 - Null Hypothesis: There is no significant difference in the number of rounds played between two different versions.\n",
    "\n",
    "H1 - Alternative Hypothesis: There is a significant difference in the number of rounds played between two different versions.\n",
    "\n",
    "After we conduct an A/B test we will have the p-value result. According to the p-value we will decide which hypothesis we will follow. \n",
    "\n",
    "- If p-value < 0.05: We reject the null hypothesis and conclude that there is a significant difference in the number of rounds played between two versions. \n",
    "- If p-value > 0.05: We cannot reject the null hypothesis. Hence, there is no significant difference in the number of rounds played between two version. "
   ]
  },
  {
   "cell_type": "markdown",
   "id": "42b609e0",
   "metadata": {},
   "source": [
    "### 1. Normality Assumption Check"
   ]
  },
  {
   "cell_type": "markdown",
   "id": "2d5e0d24",
   "metadata": {},
   "source": [
    "Before moving into the actual A/B test, let's see if the data is normally distributed. The assumption of normality in A/B test is crucial since the parametric tests works on the assumption that the data is normally distributed. Also having the data normally distributed the reliablility of the result grows higher. \n",
    "\n",
    "For the normality check, we will conduct a **Shapiro-Wilk Test**. With this test we will have two hypothesis; \n",
    "- Null Hypothesis (H0): the assumption is normally distributed \n",
    "- Alternative Hypothesis(H1): the assumption is not normally distributed. \n",
    "\n",
    "The p-value of the Shapiro-Wilk test will determine if we can reject or not reject the null hypothesis. If the p-value is less than or equal to 0.05 (assuming a 95% confidence level), then the data is assumed to not fit in the normal distribution. "
   ]
  },
  {
   "cell_type": "markdown",
   "id": "ae450eb6",
   "metadata": {},
   "source": [
    "We can see that for both `gate_30` and `gate_40` has the p-value less than 0.05 meaning our data doesn't have a normal distribution. We will reject the null hypothesis. "
   ]
  },
  {
   "cell_type": "code",
   "execution_count": 29,
   "id": "61e57d94",
   "metadata": {},
   "outputs": [
    {
     "name": "stdout",
     "output_type": "stream",
     "text": [
      "Test stat: 0.08805108070373535\n",
      "P-Value: 0.0\n"
     ]
    }
   ],
   "source": [
    "stat, pval = shapiro(data.loc[data['version'] == 'gate_30', 'sum_gamerounds'])\n",
    "print(f\"Test stat: {stat}\\nP-Value: {pval}\")"
   ]
  },
  {
   "cell_type": "code",
   "execution_count": 36,
   "id": "a962da88",
   "metadata": {},
   "outputs": [
    {
     "name": "stdout",
     "output_type": "stream",
     "text": [
      "Test stat: 0.48256635665893555\n",
      "P-Value: 0.0\n"
     ]
    },
    {
     "name": "stderr",
     "output_type": "stream",
     "text": [
      "/Users/eunaecho/anaconda3/lib/python3.11/site-packages/scipy/stats/_morestats.py:1882: UserWarning: p-value may not be accurate for N > 5000.\n",
      "  warnings.warn(\"p-value may not be accurate for N > 5000.\")\n"
     ]
    }
   ],
   "source": [
    "stat, pval = shapiro(data.loc[data['version'] == 'gate_40', 'sum_gamerounds'])\n",
    "print(f\"Test stat: {stat}\\nP-Value: {pval}\")"
   ]
  },
  {
   "cell_type": "markdown",
   "id": "e2bb0074",
   "metadata": {},
   "source": [
    "### 2. Homogeneity of Variance Assumption Check"
   ]
  },
  {
   "cell_type": "markdown",
   "id": "38c256fb",
   "metadata": {},
   "source": [
    "In A/B test, homogeneity of variance is important when performing parametric tests like t-test. If the variances between groups are significantly different, it can affect the reliablility of the test result. \n",
    "\n",
    "We will use **Levene's test** to check the assumption of homogeneity. We can set the hypothesis for this test as below. \n",
    "\n",
    "- Null Hypothesis (H0): The variance are homogeneous. \n",
    "- Alternative Hypothesis (H1): The variance are not homogeneous.\n",
    "\n",
    "We also use the p-value to determine the homogeneity of variance.\n",
    "\n",
    "- If the p-value is less than 0.05, there's a significant difference between the variances. We can reject the null hypothesis. \n",
    "- If the p-value is greater than 0.05, the variances are not significantly different from each other. In other words, the homogeneity assumption of the variance is met. Null hypothesis cannot be rejected. "
   ]
  },
  {
   "cell_type": "markdown",
   "id": "8f7afb19",
   "metadata": {},
   "source": [
    "We can see the p-value (0.46) being above 0.05 so we can say there is no significant difference between the two variances. Null hypothesis cannot be rejected. "
   ]
  },
  {
   "cell_type": "code",
   "execution_count": 39,
   "id": "9a1c0628",
   "metadata": {},
   "outputs": [
    {
     "name": "stdout",
     "output_type": "stream",
     "text": [
      "Test stat: 0.5292002638313259\n",
      "P-Value: 0.46694516772623273\n"
     ]
    }
   ],
   "source": [
    "stat, pval = levene(data.loc[data['version'] == 'gate_30', 'sum_gamerounds'],\n",
    "                   data.loc[data['version'] == 'gate_40', 'sum_gamerounds'])\n",
    "print(f\"Test stat: {stat}\\nP-Value: {pval}\")"
   ]
  },
  {
   "cell_type": "markdown",
   "id": "3a0ac614",
   "metadata": {},
   "source": [
    "Since the normal distribution assumption was rejected and homogeneity of variance not rejected we can conduct a **Mann-Whitney U test**. \n",
    "\n",
    "The Mann-Whitney U test is a non-parametric statistical test used to evaluate the difference in <u>*medians*</u> between two independent groups. Non-parametric tests are used when data does not follow a normal distribution or when homogeneity of variances is violated. The Mann-Whitney U test uses medians to access central tendency differences between groups and operates on the ranked data. \n",
    "\n",
    "For your information, if the above assumptions were met, then **independent two-sample t-test** could be a good option. The independent two-sample t-test is a parametric statistical test used to access the statistical difference between the <u>*means*</u> of two different groups. "
   ]
  },
  {
   "cell_type": "markdown",
   "id": "b0119a34",
   "metadata": {},
   "source": [
    "Since the p-value from the Mann-Whitney U test is greater than 0.05 our null hypothesis (*There is no significant difference in the number of rounds played between two different versions.*) cannot be rejected. "
   ]
  },
  {
   "cell_type": "code",
   "execution_count": 42,
   "id": "7524e279",
   "metadata": {},
   "outputs": [
    {
     "name": "stdout",
     "output_type": "stream",
     "text": [
      "Test stat: 1024331250.5\n",
      "P-Value: 0.05020880772044255\n"
     ]
    }
   ],
   "source": [
    "stat, pval = mannwhitneyu(data.loc[data['version'] == 'gate_30', 'sum_gamerounds'],\n",
    "                   data.loc[data['version'] == 'gate_40', 'sum_gamerounds'])\n",
    "print(f\"Test stat: {stat}\\nP-Value: {pval}\")"
   ]
  },
  {
   "cell_type": "markdown",
   "id": "5cd93e7a",
   "metadata": {},
   "source": [
    "## Conclusion"
   ]
  },
  {
   "cell_type": "markdown",
   "id": "26590480",
   "metadata": {},
   "source": [
    "In this notebook, we tried to understand the business problem the mobile game Cookie Cats are facing. Currently the game has a gate set on level 30 but wanted to know if changing the gate to level 40 could bring more effective business outcome. \n",
    "\n",
    "We first familiarized outselves on the data and figured out that having the gate on level 30 is slightly better than placing it on gate 40. However we needed to have more investigation by going through an A/B test to see having the gate set to current level 30 is better. \n",
    "\n",
    "Before conducting the actual test we checked if the data is in a normal distribution and homogeneity in variance assumption is made. It turned out that the data is not normally distributed, but the homogeneity in variance was made. According to this result, we decided to choose Mann-Whitney U test that is a non-parametric test suitable for data that is not normally distributed. \n",
    "\n",
    "The test result showed with a p-value greater than 0.05 meaning there is no significant difference in the number of rounds played between two different versions. This supports our hypothesis that leaving the gate on level 30 is better than moving it to level 40. \n",
    "\n",
    "In conclusion, we suggest the client to leave the gate on level 30. "
   ]
  },
  {
   "cell_type": "markdown",
   "id": "1ac1bca6",
   "metadata": {},
   "source": [
    "Extra advice that could be given to the client is to concentrate on the players that don't even play the game after installing since the percentage is quite a lot. Almost 5% of players didn't ever start the game. If there could be any sort of incentive that could attract the first time players could make more differences with the outcome the client expects. "
   ]
  }
 ],
 "metadata": {
  "kernelspec": {
   "display_name": "Python 3 (ipykernel)",
   "language": "python",
   "name": "python3"
  },
  "language_info": {
   "codemirror_mode": {
    "name": "ipython",
    "version": 3
   },
   "file_extension": ".py",
   "mimetype": "text/x-python",
   "name": "python",
   "nbconvert_exporter": "python",
   "pygments_lexer": "ipython3",
   "version": "3.11.5"
  }
 },
 "nbformat": 4,
 "nbformat_minor": 5
}
